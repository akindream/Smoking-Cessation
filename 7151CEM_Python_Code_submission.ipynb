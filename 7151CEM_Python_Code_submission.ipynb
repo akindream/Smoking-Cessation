{
  "cells": [
    {
      "cell_type": "code",
      "execution_count": null,
      "metadata": {
        "id": "vczs9FYLvp8H"
      },
      "outputs": [],
      "source": [
        "pip install plotly_express"
      ]
    },
    {
      "cell_type": "code",
      "execution_count": null,
      "metadata": {
        "id": "P64iJwijPiiF"
      },
      "outputs": [],
      "source": [
        "#Libraries\n",
        "import pandas as pd\n",
        "import numpy as np\n",
        "import matplotlib.pyplot as plt\n",
        "import seaborn as sns\n",
        "import matplotlib as mpl\n",
        "import plotly_express as px\n",
        "\n",
        "import math\n",
        "import seaborn as sns\n",
        "import time\n",
        "start_run = time.time()\n",
        "\n",
        "#Analysis, patterns and Correlations\n",
        "from sklearn.decomposition import PCA\n",
        "\n",
        "# preprocessing\n",
        "import sklearn\n",
        "from sklearn.preprocessing import StandardScaler, LabelEncoder\n",
        "from sklearn import metrics\n",
        "from sklearn.model_selection import train_test_split, StratifiedKFold\n",
        "import tensorflow as tf\n",
        "\n",
        "\n",
        "#Neural network\n",
        "import keras\n",
        "from keras import optimizers\n",
        "from keras.models import Sequential\n",
        "#from tensorflow.keras.layers import Dense, Dropout, Conv1D, MaxPooling1D, LSTM, Flatten, BatchNormalization, Activation\n",
        "from keras.layers import LSTM, SimpleRNN, GRU, Dense, Dropout, Conv1D, MaxPooling1D, LSTM, Flatten, BatchNormalization, Activation\n",
        "from sklearn.neural_network import MLPClassifier\n",
        "from tensorflow.keras.callbacks import EarlyStopping\n",
        "\n",
        "\n",
        "\n",
        "#Metrics\n",
        "from sklearn.metrics import accuracy_score, confusion_matrix, roc_auc_score, classification_report, recall_score, precision_score, f1_score, roc_curve, auc\n",
        "\n",
        "import warnings\n",
        "warnings.filterwarnings(\"ignore\")\n",
        "%matplotlib inline"
      ]
    },
    {
      "cell_type": "code",
      "execution_count": null,
      "metadata": {
        "id": "fKb8HyAMP0kF"
      },
      "outputs": [],
      "source": [
        "q_data = pd.read_csv(\"Quitline___Services_Available___Counseling_-_2010_To_Present_20240208.csv\")"
      ]
    },
    {
      "cell_type": "code",
      "execution_count": null,
      "metadata": {
        "id": "EEsK1hMWQcz6"
      },
      "outputs": [],
      "source": [
        "q_data.head()"
      ]
    },
    {
      "cell_type": "code",
      "execution_count": null,
      "metadata": {
        "id": "h67H99sTS1S1"
      },
      "outputs": [],
      "source": [
        "q_data.isnull().sum()"
      ]
    },
    {
      "cell_type": "code",
      "execution_count": null,
      "metadata": {
        "colab": {
          "base_uri": "https://localhost:8080/"
        },
        "id": "xjFJc562_Ot1",
        "outputId": "79c0b1d3-d609-4529-b430-0160ce6cd04b"
      },
      "outputs": [
        {
          "output_type": "execute_result",
          "data": {
            "text/plain": [
              "(5230, 32)"
            ]
          },
          "metadata": {},
          "execution_count": 109
        }
      ],
      "source": [
        "q_data.shape"
      ]
    },
    {
      "cell_type": "code",
      "execution_count": null,
      "metadata": {
        "id": "mIc8ktL-BN-x"
      },
      "outputs": [],
      "source": [
        "q_data['Number_of_Sessions_Offered'].unique().shape"
      ]
    },
    {
      "cell_type": "code",
      "execution_count": null,
      "metadata": {
        "id": "VocZ7QYfnz4D"
      },
      "outputs": [],
      "source": [
        "import pandas as pd\n",
        "\n",
        "# Calculate the mean value of the column\n",
        "mean_sessions = q_data['Number_of_Sessions_Offered'].mean()\n",
        "\n",
        "# Replace missing values with the mean\n",
        "q_data['Number_of_Sessions_Offered'].fillna(mean_sessions, inplace=True)\n",
        "\n",
        "# Analyzing Number_of_Sessions_Offered column\n",
        "print('value counts in Number_of_Sessions_Offered column in percentage')\n",
        "print('-'*65)\n",
        "display(q_data['Number_of_Sessions_Offered'].value_counts(normalize=True)*100)"
      ]
    },
    {
      "cell_type": "code",
      "execution_count": null,
      "metadata": {
        "id": "o00k8ma4RIli"
      },
      "outputs": [],
      "source": [
        "q_data2 = q_data.drop(['LocationAbbr', 'TopicType', 'TopicDesc', 'MeasureDesc',\n",
        "                      'Sub-Measure', 'Geographic_Requirements_Text', 'Age_Requirements_Text',\n",
        "                      'RQUIT_Requirements_Text', 'Insurance_Requirements_Text', 'Pregnancy_Requirements_Text',\n",
        "                      'Other_Requirements_Text', 'Comments',\n",
        "                      'TopicTypeId', 'TopicId', 'MeasureID', 'SOURCE', 'SubMeasureID', 'DisplayOrder'], axis=1)\n",
        "q_data2.head()"
      ]
    },
    {
      "cell_type": "code",
      "execution_count": null,
      "metadata": {
        "id": "Eb8_kMtarKkE"
      },
      "outputs": [],
      "source": [
        "q_data2.shape"
      ]
    },
    {
      "cell_type": "code",
      "execution_count": null,
      "metadata": {
        "id": "3tS6yW-vbR8i"
      },
      "outputs": [],
      "source": [
        "q_data2.info()"
      ]
    },
    {
      "cell_type": "code",
      "execution_count": null,
      "metadata": {
        "id": "pwIq1bjHHIvy"
      },
      "outputs": [],
      "source": [
        "q_tab = q_data2.copy()"
      ]
    },
    {
      "cell_type": "code",
      "execution_count": null,
      "metadata": {
        "id": "6AVlDNjuG6XA"
      },
      "outputs": [],
      "source": [
        "# Splitting the 'Geolocation' column into separate 'latitude' and 'longitude' columns\n",
        "q_tab[['latitude', 'longitude']] = q_tab['GeoLocation'].str.strip('()').str.split(',', expand=True)\n",
        "\n",
        "# Convert the latitude and longitude columns to numeric type\n",
        "q_tab['latitude'] = pd.to_numeric(q_tab['latitude'])\n",
        "q_tab['longitude'] = pd.to_numeric(q_tab['longitude'])\n",
        "q_tab.head()"
      ]
    },
    {
      "cell_type": "code",
      "execution_count": null,
      "metadata": {
        "id": "DHMrfxe4IK7I"
      },
      "outputs": [],
      "source": [
        "#from google.colab import drive\n",
        "#drive.mount('/content/drive')"
      ]
    },
    {
      "cell_type": "code",
      "execution_count": null,
      "metadata": {
        "id": "NblpI2p7MZ7p"
      },
      "outputs": [],
      "source": [
        "# Export the modified DataFrame to a CSV file in Google Drive for Tableau Geolocation Analysis\n",
        "#q_tab.to_csv('/content/drive/My Drive/geolocation_data.csv', index=False)"
      ]
    },
    {
      "cell_type": "code",
      "execution_count": null,
      "metadata": {
        "id": "Q5yWg9-D6lPj"
      },
      "outputs": [],
      "source": [
        "def counts_and_percentage(dataset, column):\n",
        "\n",
        "    count = dataset[column].value_counts()\n",
        "    percentage = dataset[column].value_counts(normalize=True) * 100\n",
        "\n",
        "    return pd.concat([count,percentage.round(1)], axis=1, keys=['Count', 'Percentage'])"
      ]
    },
    {
      "cell_type": "code",
      "execution_count": null,
      "metadata": {
        "id": "ZWPeMaaxQOSa"
      },
      "outputs": [],
      "source": [
        "counts_and_percentage(q_data2, 'Number_of_Sessions_Offered')"
      ]
    },
    {
      "cell_type": "code",
      "execution_count": null,
      "metadata": {
        "id": "ZaF6QEiR6qaX"
      },
      "outputs": [],
      "source": [
        "counts_and_percentage(q_data2, 'Year')"
      ]
    },
    {
      "cell_type": "code",
      "execution_count": null,
      "metadata": {
        "id": "UVeLbpMO6tXH"
      },
      "outputs": [],
      "source": [
        "counts_and_percentage(q_data2, 'Date')"
      ]
    },
    {
      "cell_type": "code",
      "execution_count": null,
      "metadata": {
        "id": "TN7_DE-56xo7"
      },
      "outputs": [],
      "source": [
        "counts_and_percentage(q_data2, 'Date_Ref')"
      ]
    },
    {
      "cell_type": "markdown",
      "metadata": {
        "id": "-uUa69Zc68ih"
      },
      "source": [
        "Date and Date_Ref are same\n",
        "1-4 represent Quarters and 6 and 12 represent Halves of the year"
      ]
    },
    {
      "cell_type": "code",
      "execution_count": null,
      "metadata": {
        "id": "1FTxsegQZa5N"
      },
      "outputs": [],
      "source": [
        "#Year vs count()\n",
        "def _plot_series(series, series_name, series_index=0):\n",
        "  palette = list(sns.palettes.mpl_palette('Dark2'))\n",
        "  counted = (series['Year']\n",
        "                .value_counts()\n",
        "              .reset_index(name='counts')\n",
        "              .rename({'index': 'Year'}, axis=1)\n",
        "              .sort_values('Year', ascending=True))\n",
        "  xs = counted['Year']\n",
        "  ys = counted['counts']\n",
        "  plt.plot(xs, ys, label=series_name, color=palette[series_index % len(palette)])\n",
        "\n",
        "fig, ax = plt.subplots(figsize=(10, 5.2), layout='constrained')\n",
        "df_sorted = q_data2.sort_values('Year', ascending=True)\n",
        "for i, (series_name, series) in enumerate(df_sorted.groupby('Date_Ref')):\n",
        "  _plot_series(series, series_name, i)\n",
        "  fig.legend(title='Date_Ref', bbox_to_anchor=(1, 1), loc='upper left')\n",
        "sns.despine(fig=fig, ax=ax)\n",
        "plt.xlabel('Year')\n",
        "_ = plt.ylabel('count()')"
      ]
    },
    {
      "cell_type": "code",
      "execution_count": null,
      "metadata": {
        "id": "aRXppguO6xle"
      },
      "outputs": [],
      "source": [
        "counts_and_percentage(q_data2, 'LocationDesc')"
      ]
    },
    {
      "cell_type": "code",
      "execution_count": null,
      "metadata": {
        "id": "yiVR0Mnq0j9f"
      },
      "outputs": [],
      "source": [
        "q_data2['LocationDesc'].unique().shape"
      ]
    },
    {
      "cell_type": "code",
      "execution_count": null,
      "metadata": {
        "id": "glQDgYiK6xiv"
      },
      "outputs": [],
      "source": [
        "counts_and_percentage(q_data2, 'Variable')"
      ]
    },
    {
      "cell_type": "code",
      "execution_count": null,
      "metadata": {
        "id": "5YeMvuGh4_ym"
      },
      "outputs": [],
      "source": [
        "q_data2['Variable'].unique().shape"
      ]
    },
    {
      "cell_type": "code",
      "execution_count": null,
      "metadata": {
        "id": "Rb3F1v6S6xgI"
      },
      "outputs": [],
      "source": [
        "counts_and_percentage(q_data2, 'Geographic_Requirements')"
      ]
    },
    {
      "cell_type": "code",
      "execution_count": null,
      "metadata": {
        "id": "v8lIpTwCYjH0"
      },
      "outputs": [],
      "source": [
        "#Geographic_Requirements\n",
        "q_data2.groupby('Geographic_Requirements').size().plot(kind='bar', color=sns.palettes.mpl_palette('Dark2'))\n",
        "plt.gca().spines[['top', 'right',]].set_visible(False)"
      ]
    },
    {
      "cell_type": "code",
      "execution_count": null,
      "metadata": {
        "id": "639g9wuO6xdR"
      },
      "outputs": [],
      "source": [
        "counts_and_percentage(q_data2, 'Age_Requirements')"
      ]
    },
    {
      "cell_type": "code",
      "execution_count": null,
      "metadata": {
        "id": "x9IgG_D5Yulr"
      },
      "outputs": [],
      "source": [
        "#Age_Requirements\n",
        "q_data2.groupby('Age_Requirements').size().plot(kind='bar', color=sns.palettes.mpl_palette('Dark2'))\n",
        "plt.gca().spines[['top', 'right',]].set_visible(False)"
      ]
    },
    {
      "cell_type": "code",
      "execution_count": null,
      "metadata": {
        "id": "wsUWxBnyaEDD"
      },
      "outputs": [],
      "source": [
        "#Year vs count()\n",
        "\n",
        "def _plot_series(series, series_name, series_index=0):\n",
        "  palette = list(sns.palettes.mpl_palette('Dark2'))\n",
        "  counted = (series['Year']\n",
        "                .value_counts()\n",
        "              .reset_index(name='counts')\n",
        "              .rename({'index': 'Year'}, axis=1)\n",
        "              .sort_values('Year', ascending=True))\n",
        "  xs = counted['Year']\n",
        "  ys = counted['counts']\n",
        "  plt.plot(xs, ys, label=series_name, color=palette[series_index % len(palette)])\n",
        "\n",
        "fig, ax = plt.subplots(figsize=(10, 5.2), layout='constrained')\n",
        "df_sorted = q_data2.sort_values('Year', ascending=True)\n",
        "for i, (series_name, series) in enumerate(df_sorted.groupby('Age_Requirements')):\n",
        "  _plot_series(series, series_name, i)\n",
        "  fig.legend(title='Age_Requirements', bbox_to_anchor=(1, 1), loc='upper left')\n",
        "sns.despine(fig=fig, ax=ax)\n",
        "plt.xlabel('Year')\n",
        "_ = plt.ylabel('count()')"
      ]
    },
    {
      "cell_type": "code",
      "execution_count": null,
      "metadata": {
        "id": "SvszXtAM6xab"
      },
      "outputs": [],
      "source": [
        "age_data = q_data2[q_data2['Age_Requirements'] == 'No']\n",
        "age_data"
      ]
    },
    {
      "cell_type": "code",
      "execution_count": null,
      "metadata": {
        "id": "axsRt8UL7cxl"
      },
      "outputs": [],
      "source": [
        "counts_and_percentage(q_data2, 'Insurance_Requirements')"
      ]
    },
    {
      "cell_type": "code",
      "execution_count": null,
      "metadata": {
        "id": "ANHMRlrw7l5R"
      },
      "outputs": [],
      "source": [
        "counts_and_percentage(q_data2, 'Pregnancy_Requirements')"
      ]
    },
    {
      "cell_type": "code",
      "execution_count": null,
      "metadata": {
        "id": "KP9EW-V_8jo3"
      },
      "outputs": [],
      "source": [
        "sns.countplot(x='Age_Requirements', hue='Pregnancy_Requirements', palette= 'Set2', data=q_data2.sort_values(by=['RQUIT_Requirements']))\n",
        "plt.show()"
      ]
    },
    {
      "cell_type": "code",
      "execution_count": null,
      "metadata": {
        "id": "KxgilH1KZph2"
      },
      "outputs": [],
      "source": [
        "# @title Year vs count()\n",
        "\n",
        "\n",
        "def _plot_series(series, series_name, series_index=0):\n",
        "  palette = list(sns.palettes.mpl_palette('Dark2'))\n",
        "  counted = (series['Year']\n",
        "                .value_counts()\n",
        "              .reset_index(name='counts')\n",
        "              .rename({'index': 'Year'}, axis=1)\n",
        "              .sort_values('Year', ascending=True))\n",
        "  xs = counted['Year']\n",
        "  ys = counted['counts']\n",
        "  plt.plot(xs, ys, label=series_name, color=palette[series_index % len(palette)])\n",
        "\n",
        "fig, ax = plt.subplots(figsize=(10, 5.2), layout='constrained')\n",
        "df_sorted = q_data2.sort_values('Year', ascending=True)\n",
        "for i, (series_name, series) in enumerate(df_sorted.groupby('Geographic_Requirements')):\n",
        "  _plot_series(series, series_name, i)\n",
        "  fig.legend(title='Geographic_Requirements', bbox_to_anchor=(1, 1), loc='upper left')\n",
        "sns.despine(fig=fig, ax=ax)\n",
        "plt.xlabel('Year')\n",
        "_ = plt.ylabel('count()')"
      ]
    },
    {
      "cell_type": "code",
      "execution_count": null,
      "metadata": {
        "id": "RVrc6Gc78nXS"
      },
      "outputs": [],
      "source": [
        "counts_and_percentage(q_data2, 'Other_Requirements')"
      ]
    },
    {
      "cell_type": "code",
      "execution_count": null,
      "metadata": {
        "id": "f9cDNyLH8tMv"
      },
      "outputs": [],
      "source": [
        "counts_and_percentage(q_data2, 'Unlimited_Sessions_Offered')"
      ]
    },
    {
      "cell_type": "code",
      "execution_count": null,
      "metadata": {
        "id": "a7StR2Os8xTJ"
      },
      "outputs": [],
      "source": [
        "counts_and_percentage(q_data2, 'GeoLocation')"
      ]
    },
    {
      "cell_type": "code",
      "execution_count": null,
      "metadata": {
        "id": "lf4VwjN77VP9"
      },
      "outputs": [],
      "source": [
        "q_data2['GeoLocation'].unique().shape"
      ]
    },
    {
      "cell_type": "markdown",
      "metadata": {
        "id": "V_ActvkW3AMQ"
      },
      "source": [
        "There are 53 US states and territories covered by this dataset"
      ]
    },
    {
      "cell_type": "markdown",
      "metadata": {
        "id": "Vp7zD-vb7ulS"
      },
      "source": [
        "Same with states and territories"
      ]
    },
    {
      "cell_type": "code",
      "execution_count": null,
      "metadata": {
        "id": "85xeTHmSYPVY"
      },
      "outputs": [],
      "source": [
        "q_data2.groupby('Date_Ref').size().plot(kind='bar', color=sns.palettes.mpl_palette('Dark2'))\n",
        "plt.gca().spines[['top', 'right',]].set_visible(False)"
      ]
    },
    {
      "cell_type": "code",
      "execution_count": null,
      "metadata": {
        "id": "hvFR-yzGXe2O"
      },
      "outputs": [],
      "source": [
        "#Date\n",
        "q_data2['Date'].plot(kind='hist', bins=20, title='Date')\n",
        "plt.gca().spines[['top', 'right',]].set_visible(False)"
      ]
    },
    {
      "cell_type": "code",
      "execution_count": null,
      "metadata": {
        "id": "VUJ3_kX-XWQN"
      },
      "outputs": [],
      "source": [
        "#RQUIT_Requirements\n",
        "q_data2.groupby('RQUIT_Requirements').size().plot(kind='barh', color=sns.palettes.mpl_palette('Dark2'))\n",
        "plt.gca().spines[['top', 'right',]].set_visible(False)"
      ]
    },
    {
      "cell_type": "code",
      "execution_count": null,
      "metadata": {
        "id": "3Q_sdFBhXMXE"
      },
      "outputs": [],
      "source": [
        "#QUIT_Requirements vs Insurance_Requirements\n",
        "plt.subplots(figsize=(8, 8))\n",
        "df_2dhist = pd.DataFrame({\n",
        "    x_label: grp['Insurance_Requirements'].value_counts()\n",
        "    for x_label, grp in q_data2.groupby('RQUIT_Requirements')\n",
        "})\n",
        "sns.heatmap(df_2dhist, cmap='viridis')\n",
        "plt.xlabel('RQUIT_Requirements')\n",
        "_ = plt.ylabel('Insurance_Requirements')"
      ]
    },
    {
      "cell_type": "code",
      "execution_count": null,
      "metadata": {
        "id": "4-sMRbfUaOW_"
      },
      "outputs": [],
      "source": [
        "#Year vs count()\n",
        "\n",
        "def _plot_series(series, series_name, series_index=0):\n",
        "  palette = list(sns.palettes.mpl_palette('Dark2'))\n",
        "  counted = (series['Year']\n",
        "                .value_counts()\n",
        "              .reset_index(name='counts')\n",
        "              .rename({'index': 'Year'}, axis=1)\n",
        "              .sort_values('Year', ascending=True))\n",
        "  xs = counted['Year']\n",
        "  ys = counted['counts']\n",
        "  plt.plot(xs, ys, label=series_name, color=palette[series_index % len(palette)])\n",
        "\n",
        "fig, ax = plt.subplots(figsize=(10, 5.2), layout='constrained')\n",
        "df_sorted = q_data2.sort_values('Year', ascending=True)\n",
        "for i, (series_name, series) in enumerate(df_sorted.groupby('RQUIT_Requirements')):\n",
        "  _plot_series(series, series_name, i)\n",
        "  fig.legend(title='RQUIT_Requirements', bbox_to_anchor=(1, 1), loc='upper left')\n",
        "sns.despine(fig=fig, ax=ax)\n",
        "plt.xlabel('Year')\n",
        "_ = plt.ylabel('count()')"
      ]
    },
    {
      "cell_type": "code",
      "execution_count": null,
      "metadata": {
        "id": "I0iDjx4zW6pk"
      },
      "outputs": [],
      "source": [
        "#Year\n",
        "q_data2['Year'].plot(kind='hist', bins=20, title='Year')\n",
        "plt.gca().spines[['top', 'right',]].set_visible(False)"
      ]
    },
    {
      "cell_type": "code",
      "execution_count": null,
      "metadata": {
        "id": "TrWy7mNk7dH9"
      },
      "outputs": [],
      "source": [
        "counts_and_percentage(q_data2, 'RQUIT_Requirements')"
      ]
    },
    {
      "cell_type": "code",
      "execution_count": null,
      "metadata": {
        "id": "9dV13vtrWtii"
      },
      "outputs": [],
      "source": [
        "q_data2.shape"
      ]
    },
    {
      "cell_type": "code",
      "execution_count": null,
      "metadata": {
        "id": "3vsBoiVOb4__"
      },
      "outputs": [],
      "source": [
        "q_data2.isnull().sum()"
      ]
    },
    {
      "cell_type": "code",
      "execution_count": null,
      "metadata": {
        "id": "qi5H03VMb_dW"
      },
      "outputs": [],
      "source": [
        "def counts_and_percentage(dataset, column):\n",
        "\n",
        "    count = dataset[column].value_counts()\n",
        "    percentage = dataset[column].value_counts(normalize=True) * 100\n",
        "\n",
        "    return pd.concat([count,percentage.round(1)], axis=1, keys=['Count', 'Percentage'])"
      ]
    },
    {
      "cell_type": "code",
      "execution_count": null,
      "metadata": {
        "id": "EHbBnGqQdVvk"
      },
      "outputs": [],
      "source": [
        "counts_and_percentage(q_data2, 'Year')"
      ]
    },
    {
      "cell_type": "code",
      "execution_count": null,
      "metadata": {
        "id": "wo_a_211vIxA"
      },
      "outputs": [],
      "source": [
        "Year_info = px.histogram(q_data2, x=\"Year\", marginal=\"violin\", template='ggplot2')\n",
        "Year_info.update_layout(title='Year', title_x=0.5)\n",
        "\n",
        "Year_info.show()\n",
        "#Interactive diagram. Point on objects"
      ]
    },
    {
      "cell_type": "code",
      "execution_count": null,
      "metadata": {
        "id": "-O-1mQRBd46n"
      },
      "outputs": [],
      "source": [
        "counts_and_percentage(q_data2, 'LocationDesc')"
      ]
    },
    {
      "cell_type": "code",
      "execution_count": null,
      "metadata": {
        "id": "iXJvI1ewfTfh"
      },
      "outputs": [],
      "source": [
        "counts_and_percentage(q_data2, 'Variable')"
      ]
    },
    {
      "cell_type": "code",
      "execution_count": null,
      "metadata": {
        "id": "b5XOk4I3hOU1"
      },
      "outputs": [],
      "source": [
        "sns.countplot(x='RQUIT_Requirements', hue='Pregnancy_Requirements', palette= 'Set2', data=q_data2.sort_values(by=['RQUIT_Requirements']))\n",
        "plt.show()"
      ]
    },
    {
      "cell_type": "code",
      "execution_count": null,
      "metadata": {
        "id": "eS7SWyZFT9t6"
      },
      "outputs": [],
      "source": [
        "sns.countplot(x='RQUIT_Requirements', hue='Age_Requirements', palette= 'Set2', data=q_data2.sort_values(by=['RQUIT_Requirements']))\n",
        "plt.show()"
      ]
    },
    {
      "cell_type": "code",
      "execution_count": null,
      "metadata": {
        "id": "3uxgeeBjU7N6"
      },
      "outputs": [],
      "source": [
        "sns.countplot(x='RQUIT_Requirements', hue='Insurance_Requirements', palette= 'Set2', data=q_data2.sort_values(by=['RQUIT_Requirements']))\n",
        "plt.show()"
      ]
    },
    {
      "cell_type": "code",
      "execution_count": null,
      "metadata": {
        "id": "UgbLC9CEVRSm"
      },
      "outputs": [],
      "source": [
        "sns.countplot(x='RQUIT_Requirements', hue='Other_Requirements', palette= 'Set2', data=q_data2.sort_values(by=['RQUIT_Requirements']))\n",
        "plt.show()"
      ]
    },
    {
      "cell_type": "code",
      "execution_count": null,
      "metadata": {
        "id": "TDm3H0tJVwn1"
      },
      "outputs": [],
      "source": [
        "sns.countplot(x='RQUIT_Requirements', hue='Unlimited_Sessions_Offered', palette= 'Set2', data=q_data2.sort_values(by=['RQUIT_Requirements']))\n",
        "plt.show()"
      ]
    },
    {
      "cell_type": "code",
      "execution_count": null,
      "metadata": {
        "id": "2mV5nZUXjFXj"
      },
      "outputs": [],
      "source": [
        "pd.crosstab(q_data2['LocationDesc'], [q_data2['RQUIT_Requirements'], q_data2['Year']])"
      ]
    },
    {
      "cell_type": "code",
      "execution_count": null,
      "metadata": {
        "id": "DrC0AbC1_IfW"
      },
      "outputs": [],
      "source": [
        "#VISUALIZE THE FEATURES THROUGH PAIRPLOT\n",
        "# Create a pair plot\n",
        "sns.pairplot(q_data2, hue='RQUIT_Requirements')\n",
        "\n",
        "# Display the plot\n",
        "plt.show()"
      ]
    },
    {
      "cell_type": "code",
      "execution_count": null,
      "metadata": {
        "id": "bemq5pEykS1-"
      },
      "outputs": [],
      "source": [
        "q_data3 = q_data2.drop(['Date', 'Date_Ref', 'LocationDesc','Geographic_Requirements'], axis=1)\n",
        "q_data3.head()"
      ]
    },
    {
      "cell_type": "code",
      "execution_count": null,
      "metadata": {
        "id": "8jxv_647rS7t"
      },
      "outputs": [],
      "source": [
        "q_data3.info()"
      ]
    },
    {
      "cell_type": "code",
      "execution_count": null,
      "metadata": {
        "colab": {
          "base_uri": "https://localhost:8080/"
        },
        "id": "TUF_GTt_D0ZI",
        "outputId": "6507ae18-2fb7-45d5-8b0d-b3d623513c4f"
      },
      "outputs": [
        {
          "output_type": "execute_result",
          "data": {
            "text/plain": [
              "(90,)"
            ]
          },
          "metadata": {},
          "execution_count": 167
        }
      ],
      "source": [
        "q_data3['Variable'].unique().shape"
      ]
    },
    {
      "cell_type": "code",
      "execution_count": null,
      "metadata": {
        "colab": {
          "base_uri": "https://localhost:8080/"
        },
        "id": "OBKn2C7CD-m0",
        "outputId": "135af7ef-1a32-4966-fd44-e5e67a791127"
      },
      "outputs": [
        {
          "output_type": "execute_result",
          "data": {
            "text/plain": [
              "(2,)"
            ]
          },
          "metadata": {},
          "execution_count": 168
        }
      ],
      "source": [
        "q_data3['Age_Requirements'].unique().shape"
      ]
    },
    {
      "cell_type": "code",
      "execution_count": null,
      "metadata": {
        "colab": {
          "base_uri": "https://localhost:8080/"
        },
        "id": "2pMZYQHaEJO0",
        "outputId": "4f308a75-0dce-4740-988b-9097951c0a45"
      },
      "outputs": [
        {
          "output_type": "execute_result",
          "data": {
            "text/plain": [
              "(2,)"
            ]
          },
          "metadata": {},
          "execution_count": 169
        }
      ],
      "source": [
        "q_data3['Insurance_Requirements'].unique().shape"
      ]
    },
    {
      "cell_type": "code",
      "execution_count": null,
      "metadata": {
        "colab": {
          "base_uri": "https://localhost:8080/"
        },
        "id": "W1jECBLeEOnq",
        "outputId": "ea9e92a7-45c2-40f1-d289-e2d53fdee61f"
      },
      "outputs": [
        {
          "output_type": "execute_result",
          "data": {
            "text/plain": [
              "(2,)"
            ]
          },
          "metadata": {},
          "execution_count": 170
        }
      ],
      "source": [
        "q_data3['Pregnancy_Requirements'].unique().shape"
      ]
    },
    {
      "cell_type": "code",
      "execution_count": null,
      "metadata": {
        "colab": {
          "base_uri": "https://localhost:8080/"
        },
        "id": "gCaKOrP2EOUu",
        "outputId": "31feaf2b-9bac-4c81-e939-e140d1ee797f"
      },
      "outputs": [
        {
          "output_type": "execute_result",
          "data": {
            "text/plain": [
              "(2,)"
            ]
          },
          "metadata": {},
          "execution_count": 171
        }
      ],
      "source": [
        "q_data3['Other_Requirements'].unique().shape"
      ]
    },
    {
      "cell_type": "code",
      "execution_count": null,
      "metadata": {
        "colab": {
          "base_uri": "https://localhost:8080/"
        },
        "id": "Pxgwf464EOKh",
        "outputId": "f1ccb8de-7ad9-4b55-838c-8a08c6da9fd7"
      },
      "outputs": [
        {
          "output_type": "execute_result",
          "data": {
            "text/plain": [
              "(2,)"
            ]
          },
          "metadata": {},
          "execution_count": 172
        }
      ],
      "source": [
        "q_data3['Unlimited_Sessions_Offered'].unique().shape"
      ]
    },
    {
      "cell_type": "code",
      "execution_count": null,
      "metadata": {
        "colab": {
          "base_uri": "https://localhost:8080/"
        },
        "id": "C1QqPk6UEOBS",
        "outputId": "289f2896-e820-4206-cb6a-f5790a379792"
      },
      "outputs": [
        {
          "output_type": "execute_result",
          "data": {
            "text/plain": [
              "(53,)"
            ]
          },
          "metadata": {},
          "execution_count": 173
        }
      ],
      "source": [
        "q_data3['GeoLocation'].unique().shape"
      ]
    },
    {
      "cell_type": "code",
      "execution_count": null,
      "metadata": {
        "colab": {
          "base_uri": "https://localhost:8080/"
        },
        "id": "jMsg_tpqEN1F",
        "outputId": "1836ad8e-57bb-470e-a351-c9ae25e257d9"
      },
      "outputs": [
        {
          "output_type": "execute_result",
          "data": {
            "text/plain": [
              "(2,)"
            ]
          },
          "metadata": {},
          "execution_count": 174
        }
      ],
      "source": [
        "q_data3['Age_Requirements'].unique().shape"
      ]
    },
    {
      "cell_type": "code",
      "execution_count": null,
      "metadata": {
        "colab": {
          "base_uri": "https://localhost:8080/"
        },
        "id": "UsciudFRENj8",
        "outputId": "244ef216-aeeb-4857-84bd-c4d11614a061"
      },
      "outputs": [
        {
          "output_type": "execute_result",
          "data": {
            "text/plain": [
              "(2,)"
            ]
          },
          "metadata": {},
          "execution_count": 175
        }
      ],
      "source": [
        "q_data3['Age_Requirements'].unique().shape"
      ]
    },
    {
      "cell_type": "code",
      "execution_count": null,
      "metadata": {
        "id": "46UB_I88uQd7"
      },
      "outputs": [],
      "source": [
        "# Create a copy of the DataFrame to preserve q_data3 storage\n",
        "q_data_encoded = q_data3.copy()\n",
        "\n",
        "# Initialize LabelEncoder\n",
        "label_encoder = LabelEncoder()\n",
        "\n",
        "# Iterate over each column\n",
        "for column in q_data_encoded.columns:\n",
        "    # Check if the column dtype is object (string)\n",
        "    if q_data_encoded[column].dtype == 'object':\n",
        "        # Use LabelEncoder to convert the string values to numerical values\n",
        "        q_data_encoded[column] = label_encoder.fit_transform(q_data_encoded[column])\n",
        "\n",
        "# Move 'RQUIT_Requirements' column to the last position\n",
        "rquit_column = q_data_encoded.pop('RQUIT_Requirements')\n",
        "q_data_encoded.insert(len(q_data_encoded.columns), 'RQUIT_Requirements', rquit_column)"
      ]
    },
    {
      "cell_type": "code",
      "execution_count": null,
      "metadata": {
        "id": "9GWtEIcdM0WO"
      },
      "outputs": [],
      "source": [
        "q_data_encoded.head()"
      ]
    },
    {
      "cell_type": "code",
      "execution_count": null,
      "metadata": {
        "id": "Rn1taCxqD0Ti"
      },
      "outputs": [],
      "source": [
        "#VISUALIZE THE FEATURES THROUGH PAIRPLOT\n",
        "# Create a pair plot\n",
        "sns.pairplot(q_data_encoded, hue='RQUIT_Requirements')\n",
        "\n",
        "# Display the plot\n",
        "plt.show()"
      ]
    },
    {
      "cell_type": "code",
      "execution_count": null,
      "metadata": {
        "id": "d2_9tx_od-U5"
      },
      "outputs": [],
      "source": [
        "q_data_encoded_no_year = q_data_encoded.drop(['Year'], axis=1)\n",
        "q_data_encoded_no_year.head()"
      ]
    },
    {
      "cell_type": "code",
      "source": [
        "import pandas as pd\n",
        "\n",
        "# Calculate Spearman correlation for each variable with the target variable\n",
        "correlations = q_data_encoded_no_year.corrwith(q_data_encoded_no_year['RQUIT_Requirements'], method='spearman')\n",
        "\n",
        "# Create a DataFrame to store the correlations\n",
        "correlation_df = pd.DataFrame(correlations, columns=['Spearman Correlation'])\n",
        "\n",
        "# Sort the correlations by their absolute values in descending order\n",
        "correlation_df['Absolute Correlation'] = correlation_df['Spearman Correlation'].abs()\n",
        "correlation_df = correlation_df.sort_values(by='Absolute Correlation', ascending=False)\n",
        "\n",
        "# Print the sorted correlations\n",
        "print(correlation_df)"
      ],
      "metadata": {
        "id": "SkSzGB29GHEb"
      },
      "execution_count": null,
      "outputs": []
    },
    {
      "cell_type": "code",
      "source": [
        "import seaborn as sns\n",
        "import matplotlib.pyplot as plt\n",
        "\n",
        "# Calculate Spearman correlation for all pairs of variables\n",
        "correlation_matrix = q_data_encoded_no_year.corr(method='spearman')\n",
        "\n",
        "# Plotting the heatmap\n",
        "plt.figure(figsize=(12, 8))\n",
        "sns.heatmap(correlation_matrix, cmap='coolwarm', annot=True, fmt=\".2f\", linewidths=0.5)\n",
        "plt.title('Spearman Correlation Heatmap')\n",
        "#plt.xlabel('Variables')\n",
        "#plt.ylabel('Variables')\n",
        "plt.show()"
      ],
      "metadata": {
        "id": "DJDPDUzc5lex"
      },
      "execution_count": null,
      "outputs": []
    },
    {
      "cell_type": "code",
      "execution_count": null,
      "metadata": {
        "id": "_I43Fuo8bCGi"
      },
      "outputs": [],
      "source": [
        "import warnings\n",
        "warnings.filterwarnings(\"ignore\")\n",
        "Xsfs = q_data_encoded_no_year.iloc[:,0:8]\n",
        "ysfs = q_data_encoded_no_year.iloc[:,-1]"
      ]
    },
    {
      "cell_type": "code",
      "execution_count": null,
      "metadata": {
        "id": "tEUDE47McGJ6"
      },
      "outputs": [],
      "source": [
        "Xsfs.head()"
      ]
    },
    {
      "cell_type": "code",
      "execution_count": null,
      "metadata": {
        "colab": {
          "base_uri": "https://localhost:8080/"
        },
        "id": "RLjZwgOnb_aP",
        "outputId": "d4341d3e-ec84-4458-f2ef-982ff63b5bf7"
      },
      "outputs": [
        {
          "output_type": "execute_result",
          "data": {
            "text/plain": [
              "(5230, 8)"
            ]
          },
          "metadata": {},
          "execution_count": 184
        }
      ],
      "source": [
        "Xsfs.shape"
      ]
    },
    {
      "cell_type": "code",
      "execution_count": null,
      "metadata": {
        "id": "t7Kb5aubbWIt"
      },
      "outputs": [],
      "source": [
        "# Normalization for PCA analysis\n",
        "from sklearn.preprocessing import StandardScaler\n",
        "scale = StandardScaler()\n",
        "\n",
        "# Fitting the input data\n",
        "q_scale = scale.fit_transform(Xsfs)"
      ]
    },
    {
      "cell_type": "code",
      "execution_count": null,
      "metadata": {
        "id": "yPNkpRRM1_vB"
      },
      "outputs": [],
      "source": [
        "# Instantiate PCA object\n",
        "pca = PCA()\n",
        "\n",
        "# Fit and transform the scaled data\n",
        "pca_data = pca.fit_transform(q_scale)\n",
        "\n",
        "# Plot explained variance ratio\n",
        "plt.figure(figsize=(10, 6))\n",
        "plt.bar(range(1, len(pca.explained_variance_ratio_) + 1), pca.explained_variance_ratio_)\n",
        "plt.title('Explained Variance Ratio')\n",
        "plt.xlabel('Principal Component')\n",
        "plt.ylabel('Explained Variance Ratio')\n",
        "plt.grid(True)\n",
        "plt.show()"
      ]
    },
    {
      "cell_type": "code",
      "source": [
        "from sklearn.decomposition import PCA\n",
        "import numpy as np\n",
        "import matplotlib.pyplot as plt\n",
        "\n",
        "# Assuming X is your data matrix\n",
        "# Initialize PCA\n",
        "pca = PCA()\n",
        "\n",
        "# Fit PCA to your data\n",
        "pca.fit(q_scale)\n",
        "\n",
        "# Calculate cumulative explained variance\n",
        "cumulative_variance = np.cumsum(pca.explained_variance_ratio_)\n",
        "\n",
        "# Plotting the cumulative explained variance\n",
        "plt.plot(np.arange(1, len(cumulative_variance) + 1), cumulative_variance)\n",
        "plt.title('Cumulative Explained Variance by Principal Components')\n",
        "plt.xlabel('Number of Principal Components')\n",
        "plt.ylabel('Cumulative Explained Variance')\n",
        "plt.grid(True)\n",
        "plt.show()"
      ],
      "metadata": {
        "id": "bYbyXZDJDEto"
      },
      "execution_count": null,
      "outputs": []
    },
    {
      "cell_type": "code",
      "execution_count": null,
      "metadata": {
        "id": "-yWo-fGhOhqb"
      },
      "outputs": [],
      "source": [
        "y = q_data_encoded.iloc[:,-1]"
      ]
    },
    {
      "cell_type": "code",
      "execution_count": null,
      "metadata": {
        "id": "koQLtnJA3qQC"
      },
      "outputs": [],
      "source": [
        "# Convert 'Year' column to datetime format\n",
        "q_data_encoded['Year'] = pd.to_datetime(q_data_encoded['Year'], format='%Y')\n",
        "\n",
        "# Split dataset into training and testing sets\n",
        "train_data = q_data_encoded[q_data_encoded['Year'].dt.year.isin(range(2010, 2018))]\n",
        "test_data = q_data_encoded[q_data_encoded['Year'].dt.year.isin(range(2018, 2021))]\n",
        "\n",
        "# Reset index\n",
        "train_data.reset_index(drop=True, inplace=True)\n",
        "test_data.reset_index(drop=True, inplace=True)"
      ]
    },
    {
      "cell_type": "code",
      "execution_count": null,
      "metadata": {
        "id": "d-yJMYrX54Ku"
      },
      "outputs": [],
      "source": [
        "train_data.head()"
      ]
    },
    {
      "cell_type": "code",
      "execution_count": null,
      "metadata": {
        "colab": {
          "base_uri": "https://localhost:8080/"
        },
        "id": "GsvknimgubNm",
        "outputId": "47c635d3-92b6-4757-bbef-117b7259da08"
      },
      "outputs": [
        {
          "output_type": "execute_result",
          "data": {
            "text/plain": [
              "(4070, 10)"
            ]
          },
          "metadata": {},
          "execution_count": 191
        }
      ],
      "source": [
        "train_data.shape"
      ]
    },
    {
      "cell_type": "code",
      "execution_count": null,
      "metadata": {
        "colab": {
          "base_uri": "https://localhost:8080/"
        },
        "id": "2wS39YBKUxC1",
        "outputId": "5142b9a1-a30a-4a78-d035-103a3faf1e20"
      },
      "outputs": [
        {
          "output_type": "execute_result",
          "data": {
            "text/plain": [
              "(4070, 9)"
            ]
          },
          "metadata": {},
          "execution_count": 192
        }
      ],
      "source": [
        "train_data = train_data.drop(['Year'], axis=1)\n",
        "train_data.shape"
      ]
    },
    {
      "cell_type": "code",
      "execution_count": null,
      "metadata": {
        "id": "huRvyK-X6KBp"
      },
      "outputs": [],
      "source": [
        "test_data.head()"
      ]
    },
    {
      "cell_type": "code",
      "execution_count": null,
      "metadata": {
        "colab": {
          "base_uri": "https://localhost:8080/"
        },
        "id": "c8wrazliuh-c",
        "outputId": "559c6322-891f-426a-cbe4-78489f4b467d"
      },
      "outputs": [
        {
          "output_type": "execute_result",
          "data": {
            "text/plain": [
              "(1160, 10)"
            ]
          },
          "metadata": {},
          "execution_count": 194
        }
      ],
      "source": [
        "test_data.shape"
      ]
    },
    {
      "cell_type": "code",
      "execution_count": null,
      "metadata": {
        "colab": {
          "base_uri": "https://localhost:8080/"
        },
        "id": "K0wp_yE1Vnjq",
        "outputId": "1e562089-4207-4489-ce1b-31bbde02e0ee"
      },
      "outputs": [
        {
          "output_type": "execute_result",
          "data": {
            "text/plain": [
              "(1160, 9)"
            ]
          },
          "metadata": {},
          "execution_count": 195
        }
      ],
      "source": [
        "test_data = test_data.drop(['Year'], axis=1)\n",
        "test_data.shape"
      ]
    },
    {
      "cell_type": "code",
      "execution_count": null,
      "metadata": {
        "id": "BZdY1c6_L5Lt"
      },
      "outputs": [],
      "source": [
        "test_data.head()"
      ]
    },
    {
      "cell_type": "code",
      "execution_count": null,
      "metadata": {
        "id": "mzKStfDU4Sa3"
      },
      "outputs": [],
      "source": [
        "# Encode categorical variables\n",
        "label_encoder = LabelEncoder()\n",
        "for column in train_data.columns:\n",
        "    if train_data[column].dtype == 'object':\n",
        "        train_data[column] = label_encoder.fit_transform(train_data[column])\n",
        "\n",
        "for column in test_data.columns:\n",
        "    if test_data[column].dtype == 'object':\n",
        "        test_data[column] = label_encoder.transform(test_data[column])"
      ]
    },
    {
      "cell_type": "code",
      "execution_count": null,
      "metadata": {
        "id": "CBqYXsFzHChP"
      },
      "outputs": [],
      "source": [
        "# Split features and target variable for training and testing sets\n",
        "X_train = train_data.drop(columns=['RQUIT_Requirements'])\n",
        "y_train = train_data['RQUIT_Requirements']\n",
        "X_test = test_data.drop(columns=['RQUIT_Requirements'])\n",
        "y_test = test_data['RQUIT_Requirements']\n",
        "\n",
        "# Scale features (excluding datetime columns)\n",
        "scaler = StandardScaler()\n",
        "X_train_scaled = scaler.fit_transform(X_train.select_dtypes(exclude=['datetime']))\n",
        "X_test_scaled = scaler.transform(X_test.select_dtypes(exclude=['datetime']))"
      ]
    },
    {
      "cell_type": "code",
      "execution_count": null,
      "metadata": {
        "id": "7oQduZfg92XC"
      },
      "outputs": [],
      "source": [
        "from keras.models import Sequential\n",
        "from keras.layers import Conv1D, Flatten, Dense, Dropout, BatchNormalization\n",
        "from keras.optimizers import Adam\n",
        "\n",
        "# Define the CNN model\n",
        "cnn_model = Sequential([\n",
        "    Conv1D(filters=32, kernel_size=3, activation='relu', input_shape=(X_train_scaled.shape[1], 1)),\n",
        "    BatchNormalization(),  # Add batch normalization\n",
        "    Conv1D(filters=64, kernel_size=3, activation='relu'),\n",
        "    BatchNormalization(),  # Add batch normalization\n",
        "    Conv1D(filters=128, kernel_size=3, activation='relu'),\n",
        "    BatchNormalization(),  # Add batch normalization\n",
        "    MaxPooling1D(pool_size= 1),\n",
        "    Flatten(),\n",
        "    Dense(128, activation='relu'),\n",
        "    Dropout(0.3),  # Add dropout layer for regularization\n",
        "    Dense(64, activation='relu'),\n",
        "    Dense(1, activation='sigmoid')  # For binary classification\n",
        "])\n",
        "\n",
        "\n",
        "# Compile the model\n",
        "cnn_model.compile(optimizer='adam', loss='binary_crossentropy', metrics=['accuracy'])\n",
        "\n",
        "cnn_model.summary()"
      ]
    },
    {
      "cell_type": "code",
      "execution_count": null,
      "metadata": {
        "id": "-vp8KpO9rgln"
      },
      "outputs": [],
      "source": [
        "# Define early stopping callback\n",
        "early_stopping = EarlyStopping(monitor='val_loss', patience=20, restore_best_weights=True)\n",
        "\n",
        "# Train the model\n",
        "history_cnn = cnn_model.fit(X_train_scaled, y_train, epochs=300, batch_size=32,\n",
        "                            validation_split=0.2, verbose=0, callbacks=[early_stopping],\n",
        "                            shuffle=True, use_multiprocessing = True)\n",
        "\n",
        "# Evaluate the model on the test set\n",
        "y_pred = (cnn_model.predict(X_test_scaled) > 0.5).astype(\"int32\")\n",
        "\n",
        "# Metrics\n",
        "accuracy_cnn = round(accuracy_score(y_test, y_pred),4)\n",
        "recall_cnn = round(recall_score(y_test, y_pred), 4)\n",
        "precision_cnn = round(precision_score(y_test, y_pred), 4)\n",
        "f1_cnn = round(f1_score(y_test, y_pred), 4)\n",
        "\n",
        "# Calculate area under the ROC curve\n",
        "roc_auc_cnn = round(roc_auc_score(y_test, y_pred), 3)\n",
        "\n",
        "\n",
        "# Print metrics\n",
        "print(f'Accuracy: {accuracy_cnn}')\n",
        "print(f'Precision: {precision_cnn}')\n",
        "print(f'Recall: {recall_cnn}')\n",
        "print(f'F1 Score: {f1_cnn}')\n",
        "print(f'ROC AUC: {roc_auc_cnn}')\n",
        "\n",
        "# Generate confusion matrix\n",
        "cm = confusion_matrix(y_test, y_pred)\n",
        "\n",
        "# Plot confusion matrix\n",
        "plt.figure(figsize=(4, 3))\n",
        "sns.heatmap(cm, annot=True, cmap='Blues', fmt='g')\n",
        "plt.xlabel('Predicted')\n",
        "plt.ylabel('Actual')\n",
        "plt.title('Confusion Matrix')\n",
        "plt.show()\n",
        "\n",
        "# Plot training and validation accuracy over epochs\n",
        "plt.plot(history_cnn.history['accuracy'], label='Train Accuracy')\n",
        "plt.plot(history_cnn.history['val_accuracy'], label='Validation Accuracy')\n",
        "plt.xlabel('Epochs')\n",
        "plt.ylabel('Accuracy')\n",
        "plt.title('Training and Validation Accuracy of CNN Model')\n",
        "plt.legend()\n",
        "plt.show()\n",
        "\n",
        "# Plot training and validation accuracy over epochs\n",
        "plt.plot(history_cnn.history['loss'], label='Train loss')\n",
        "plt.plot(history_cnn.history['val_loss'], label='Validation loss')\n",
        "plt.xlabel('Epochs')\n",
        "plt.ylabel('loss')\n",
        "plt.title('Training and Validation loss of CNN Model')\n",
        "plt.legend()\n",
        "plt.show()"
      ]
    },
    {
      "cell_type": "code",
      "execution_count": null,
      "metadata": {
        "id": "90LRnNV_CIFh"
      },
      "outputs": [],
      "source": [
        "# Define the LSTM model architecture\n",
        "model_lstm = Sequential([\n",
        "    LSTM(units=128, return_sequences=True, input_shape=(X_train_scaled.shape[1], 1)),\n",
        "    Dropout(0.2),  # Add dropout for regularization\n",
        "    LSTM(units=64, return_sequences=False),\n",
        "    Dense(64, activation='relu'),  # Add a dense layer with ReLU activation\n",
        "    Dropout(0.2),  # Add dropout for regularization\n",
        "    Dense(1, activation='sigmoid')    # For binary classification\n",
        "])\n",
        "\n",
        "# Compile the LSTM model\n",
        "model_lstm.compile(optimizer='adam', loss='binary_crossentropy', metrics=['accuracy'])\n",
        "\n",
        "model_lstm.summary()"
      ]
    },
    {
      "cell_type": "code",
      "execution_count": null,
      "metadata": {
        "id": "SLv2itOesOkb"
      },
      "outputs": [],
      "source": [
        "# Define early stopping callback\n",
        "early_stopping = EarlyStopping(monitor='val_loss', patience=20, restore_best_weights=True)\n",
        "\n",
        "\n",
        "# Train the LSTM model and record training history\n",
        "history_lstm = model_lstm.fit(X_train_scaled.reshape(X_train_scaled.shape[0], X_train_scaled.shape[1], 1),\n",
        "                              y_train, epochs=300, batch_size=32, validation_split=0.2,\n",
        "                              verbose=0, callbacks=[early_stopping], shuffle=True)\n",
        "\n",
        "\n",
        "\n",
        "# Evaluate the model on the test set\n",
        "y_pred = (model_lstm.predict(X_test_scaled.reshape(X_test_scaled.shape[0], X_test_scaled.shape[1], 1)) > 0.5).astype(\"int32\")\n",
        "\n",
        "# Calculate metrics\n",
        "accuracy_lstm = round(accuracy_score(y_test, y_pred), 4)\n",
        "precision_lstm = round(precision_score(y_test, y_pred), 4)\n",
        "recall_lstm = round(recall_score(y_test, y_pred), 4)\n",
        "f1_lstm = round(f1_score(y_test, y_pred), 4)\n",
        "roc_auc_lstm = round(roc_auc_score(y_test, y_pred), 4)\n",
        "\n",
        "# Print metrics\n",
        "print(f'Accuracy: {accuracy_lstm}')\n",
        "print(f'Precision: {precision_lstm}')\n",
        "print(f'Recall: {recall_lstm}')\n",
        "print(f'F1 Score: {f1_lstm}')\n",
        "print(f'ROC AUC: {roc_auc_lstm}')\n",
        "\n",
        "# Generate confusion matrix\n",
        "cm = confusion_matrix(y_test, y_pred)\n",
        "\n",
        "# Plot confusion matrix\n",
        "plt.figure(figsize=(4, 3))\n",
        "sns.heatmap(cm, annot=True, cmap='Blues', fmt='g')\n",
        "plt.xlabel('Predicted')\n",
        "plt.ylabel('Actual')\n",
        "plt.title('Confusion Matrix')\n",
        "plt.show()\n",
        "\n",
        "# Plot training and validation accuracy over epochs\n",
        "plt.plot(history_lstm.history['accuracy'], label='Train Accuracy')\n",
        "plt.plot(history_lstm.history['val_accuracy'], label='Validation Accuracy')\n",
        "plt.xlabel('Epochs')\n",
        "plt.ylabel('Accuracy')\n",
        "plt.title('Training and Validation Accuracy of LSTM Model')\n",
        "plt.legend()\n",
        "plt.show()\n",
        "\n",
        "# Plot training and validation accuracy over epochs\n",
        "plt.plot(history_lstm.history['loss'], label='Train loss')\n",
        "plt.plot(history_lstm.history['val_loss'], label='Validation loss')\n",
        "plt.xlabel('Epochs')\n",
        "plt.ylabel('loss')\n",
        "plt.title('Training and Validation loss of LSTM Model')\n",
        "plt.legend()\n",
        "plt.show()"
      ]
    },
    {
      "cell_type": "code",
      "execution_count": null,
      "metadata": {
        "id": "qSUSh7v-DT2r"
      },
      "outputs": [],
      "source": [
        "# Define the GRU model architecture\n",
        "\n",
        "model_gru = Sequential([\n",
        "    GRU(units=128, return_sequences=True, input_shape=(X_train_scaled.shape[1], 1)),\n",
        "    Dropout(0.2),  # Add dropout for regularization\n",
        "    GRU(units=64, return_sequences=False),\n",
        "    Dense(64, activation='relu'),  # Add a dense layer with ReLU activation\n",
        "    Dropout(0.2),  # Add dropout for regularization\n",
        "    Dense(1, activation='sigmoid')   # For binary classification\n",
        "])\n",
        "\n",
        "# Compile the GRU model\n",
        "model_gru.compile(optimizer='Adam', loss='binary_crossentropy', metrics=['accuracy'], )\n",
        "\n",
        "model_gru.summary()"
      ]
    },
    {
      "cell_type": "code",
      "execution_count": null,
      "metadata": {
        "id": "kzteKh0ysf9N"
      },
      "outputs": [],
      "source": [
        "# Define early stopping callback\n",
        "\n",
        "early_stopping = EarlyStopping(monitor='val_loss', patience=25, restore_best_weights=True)\n",
        "\n",
        "rlrp = ReduceLROnPlateau(monitor='val_loss', factor=0.1, patience=20, min_delta=1E-7)\n",
        "\n",
        "# Train the GRU model and record training history\n",
        "history_gru = model_gru.fit(X_train_scaled.reshape(X_train_scaled.shape[0], X_train_scaled.shape[1], 1), y_train,\n",
        "                            epochs=300, batch_size=32, validation_split=0.2, verbose=0,\n",
        "                            callbacks=[early_stopping])\n",
        "\n",
        "# Evaluate the model on the test set\n",
        "y_pred = (model_gru.predict(X_test_scaled.reshape(X_test_scaled.shape[0], X_test_scaled.shape[1], 1)) > 0.5).astype(\"int32\")\n",
        "\n",
        "# Calculate metrics\n",
        "accuracy_gru = round(accuracy_score(y_test, y_pred), 4)\n",
        "precision_gru = round(precision_score(y_test, y_pred), 4)\n",
        "recall_gru = round(recall_score(y_test, y_pred), 4)\n",
        "f1_gru = round(f1_score(y_test, y_pred), 4)\n",
        "roc_auc_gru = round(roc_auc_score(y_test, y_pred), 4)\n",
        "\n",
        "# Print metrics\n",
        "print(f'Accuracy: {accuracy_gru}')\n",
        "print(f'Precision: {precision_gru}')\n",
        "print(f'Recall: {recall_gru}')\n",
        "print(f'F1 Score: {f1_gru}')\n",
        "print(f'ROC AUC: {roc_auc_gru}')\n",
        "\n",
        "# Generate confusion matrix\n",
        "cm = confusion_matrix(y_test, y_pred)\n",
        "\n",
        "# Plot confusion matrix\n",
        "plt.figure(figsize=(4, 3))\n",
        "sns.heatmap(cm, annot=True, cmap='Blues', fmt='g')\n",
        "plt.xlabel('Predicted')\n",
        "plt.ylabel('Actual')\n",
        "plt.title('Confusion Matrix')\n",
        "plt.show()\n",
        "\n",
        "# Plot training and validation accuracy over epochs\n",
        "plt.plot(history_gru.history['accuracy'], label='Train Accuracy')\n",
        "plt.plot(history_gru.history['val_accuracy'], label='Validation Accuracy')\n",
        "plt.xlabel('Epochs')\n",
        "plt.ylabel('Accuracy')\n",
        "plt.title('Training and Validation Accuracy of GRU Model')\n",
        "plt.legend()\n",
        "plt.show()\n",
        "\n",
        "# Plot training and validation accuracy over epochs\n",
        "plt.plot(history_gru.history['loss'], label='Train loss')\n",
        "plt.plot(history_gru.history['val_loss'], label='Validation loss')\n",
        "plt.xlabel('Epochs')\n",
        "plt.ylabel('loss')\n",
        "plt.title('Training and Validation loss of GRU Model')\n",
        "plt.legend()\n",
        "plt.show()"
      ]
    },
    {
      "cell_type": "code",
      "execution_count": null,
      "metadata": {
        "id": "pRvzY5nwh9To"
      },
      "outputs": [],
      "source": [
        "# Create a dictionary with model names and their corresponding metrics\n",
        "metrics = {\n",
        "    'CNN': {'Accuracy': accuracy_cnn, 'Precision': precision_cnn, 'Recall': recall_cnn, 'F1 Score': f1_cnn, 'ROC': roc_auc_cnn},\n",
        "    'LSTM': {'Accuracy': accuracy_lstm, 'Precision': precision_lstm, 'Recall': recall_lstm, 'F1 Score': f1_lstm, 'ROC': roc_auc_lstm},\n",
        "    'GRU': {'Accuracy': accuracy_gru, 'Precision': precision_gru, 'Recall': recall_gru, 'F1 Score': f1_gru, 'ROC': roc_auc_gru},\n",
        "}\n",
        "\n",
        "# Convert the dictionary to a pandas DataFrame\n",
        "metrics_table = pd.DataFrame(metrics).T\n",
        "\n",
        "# Display the accuracy table\n",
        "print(metrics_table)"
      ]
    },
    {
      "cell_type": "code",
      "execution_count": null,
      "metadata": {
        "id": "ODKmAujWV2-7"
      },
      "outputs": [],
      "source": [
        "stop_run = time.time()\n",
        "\n",
        "total_time = stop_run - start_run\n",
        "\n",
        "project_time = (total_time/60)\n",
        "\n",
        "print(\"totaltime of iteration is: %0.1f minutes\" % (project_time))"
      ]
    }
  ],
  "metadata": {
    "colab": {
      "provenance": []
    },
    "kernelspec": {
      "display_name": "Python 3",
      "name": "python3"
    },
    "language_info": {
      "name": "python"
    }
  },
  "nbformat": 4,
  "nbformat_minor": 0
}
